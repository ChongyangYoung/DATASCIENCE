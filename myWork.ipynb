{
 "cells": [
  {
   "cell_type": "markdown",
   "id": "11efa80f-af4c-4555-814b-6d61cf6cb8ce",
   "metadata": {},
   "source": [
    "# My Jupyter Notebook on IBM Watson Studio"
   ]
  },
  {
   "cell_type": "markdown",
   "id": "a8d648ff-7e76-4ef1-9cdb-3309ebc33780",
   "metadata": {},
   "source": [
    "**yang chongyang**  \n",
    "student"
   ]
  },
  {
   "cell_type": "markdown",
   "id": "040100e2-f182-48d4-94cc-3c5d5b567894",
   "metadata": {},
   "source": [
    "*I am interested in data science because I think it can help me a lot and make my study easier.*"
   ]
  },
  {
   "cell_type": "markdown",
   "id": "2e190d57-2413-4115-97ad-943e8474bb36",
   "metadata": {},
   "source": [
    "### Do something basic calculation like a + b * c"
   ]
  },
  {
   "cell_type": "code",
   "execution_count": 2,
   "id": "24a481f9-44ed-453d-8ef2-2dbdc0057ccd",
   "metadata": {},
   "outputs": [
    {
     "name": "stdout",
     "output_type": "stream",
     "text": [
      "141\n"
     ]
    }
   ],
   "source": [
    "a = 1\n",
    "b = 2\n",
    "c = 70\n",
    "print(a + b * 70)"
   ]
  },
  {
   "cell_type": "markdown",
   "id": "3611cc09-dff9-4501-a0f2-3e27a2642e8a",
   "metadata": {},
   "source": [
    "---\n",
    "<li>list 1</li>\n",
    "<li>list 2</li>\n",
    "<li>list 3</li>\n",
    "<li>list 4</li>\n",
    "\n",
    "---\n",
    "\n",
    "<table border=\"1\">\n",
    "    <tr>\n",
    "        <tr>row 1, cell 1</td>\n",
    "        <tr>row 1, cell 2</td>\n",
    "    </tr>\n",
    "    <tr>\n",
    "         <td>row 2,cell 1</td>\n",
    "         <td>row 2,cell 2</td>\n",
    "</table>\n",
    "\n",
    "---\n",
    "\n",
    "<h1><a href=\"https://github.com\">Github</a></h1>\n",
    "        "
   ]
  },
  {
   "cell_type": "code",
   "execution_count": null,
   "id": "21a27d87-a3c4-4906-a798-68aa86145824",
   "metadata": {},
   "outputs": [],
   "source": []
  }
 ],
 "metadata": {
  "kernelspec": {
   "display_name": "Python 3 (ipykernel)",
   "language": "python",
   "name": "python3"
  },
  "language_info": {
   "codemirror_mode": {
    "name": "ipython",
    "version": 3
   },
   "file_extension": ".py",
   "mimetype": "text/x-python",
   "name": "python",
   "nbconvert_exporter": "python",
   "pygments_lexer": "ipython3",
   "version": "3.9.7"
  }
 },
 "nbformat": 4,
 "nbformat_minor": 5
}
